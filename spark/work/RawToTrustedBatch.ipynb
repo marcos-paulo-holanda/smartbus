{
 "cells": [
  {
   "cell_type": "markdown",
   "id": "4bf0d324-6252-4bee-8a53-37189977952a",
   "metadata": {
    "tags": []
   },
   "source": [
    "# ETL Bus Position"
   ]
  },
  {
   "cell_type": "code",
   "execution_count": 1,
   "id": "ff56a975-3bec-476d-9150-4ae3b614da77",
   "metadata": {},
   "outputs": [],
   "source": [
    "import pytz\n",
    "import os\n",
    "from pyspark.sql import SparkSession\n",
    "from datetime import datetime\n",
    "from pyspark.sql.functions import explode, col"
   ]
  },
  {
   "cell_type": "code",
   "execution_count": 2,
   "id": "635a68ad-19d6-4257-926f-fd79065c030a",
   "metadata": {},
   "outputs": [
    {
     "data": {
      "text/html": [
       "\n",
       "            <div>\n",
       "                <p><b>SparkSession - in-memory</b></p>\n",
       "                \n",
       "        <div>\n",
       "            <p><b>SparkContext</b></p>\n",
       "\n",
       "            <p><a href=\"http://spark-master:4040\">Spark UI</a></p>\n",
       "\n",
       "            <dl>\n",
       "              <dt>Version</dt>\n",
       "                <dd><code>v3.3.1</code></dd>\n",
       "              <dt>Master</dt>\n",
       "                <dd><code>local[*]</code></dd>\n",
       "              <dt>AppName</dt>\n",
       "                <dd><code>RawToTrustedBatch</code></dd>\n",
       "            </dl>\n",
       "        </div>\n",
       "        \n",
       "            </div>\n",
       "        "
      ],
      "text/plain": [
       "<pyspark.sql.session.SparkSession at 0x7f3091bc8850>"
      ]
     },
     "execution_count": 2,
     "metadata": {},
     "output_type": "execute_result"
    }
   ],
   "source": [
    "# Inicializa a sessão Spark\n",
    "spark = SparkSession.builder.appName(\"RawToTrustedBatch\").getOrCreate()\n",
    "\n",
    "# Configura o acesso ao MinIO\n",
    "hadoop_conf = spark.sparkContext._jsc.hadoopConfiguration()\n",
    "hadoop_conf.set(\"fs.s3a.access.key\", \"datalake\")\n",
    "hadoop_conf.set(\"fs.s3a.secret.key\", \"datalake\")\n",
    "hadoop_conf.set(\"fs.s3a.endpoint\", \"http://minio:9000\")\n",
    "hadoop_conf.set(\"fs.s3a.path.style.access\", \"true\")\n",
    "hadoop_conf.set(\"fs.s3a.impl\", \"org.apache.hadoop.fs.s3a.S3AFileSystem\")\n",
    "\n",
    "spark"
   ]
  },
  {
   "cell_type": "code",
   "execution_count": 3,
   "id": "0089b22b-7ef6-4ea4-a9b8-62b4a371455a",
   "metadata": {},
   "outputs": [],
   "source": [
    "# Defina o caminho de entrada e saída com base na data\n",
    "fuso_horario_brasilia = pytz.timezone('America/Sao_Paulo')\n",
    "brasilia_time = datetime.now(fuso_horario_brasilia)\n",
    "today = brasilia_time.strftime('%Y-%m-%d')\n",
    "\n",
    "raw_path = f\"s3a://raw/busdata/{today}\"\n",
    "\n",
    "routes_trusted_path = f\"s3a://trusted/busroutes/{today}/\"\n",
    "positions_trusted_path = f\"s3a://trusted/buspositions/{today}/\""
   ]
  },
  {
   "cell_type": "code",
   "execution_count": 4,
   "id": "fdb0bf2a-43af-4e01-9ff8-7559d6e731ab",
   "metadata": {},
   "outputs": [
    {
     "name": "stdout",
     "output_type": "stream",
     "text": [
      "+--------------+-------+--------+-----------------+--------------------+------------+\n",
      "|codigo_trajeto|sentido|letreiro|terminal_primario| terminal_secundario|qnt_veiculos|\n",
      "+--------------+-------+--------+-----------------+--------------------+------------+\n",
      "|         32999|      2| 273V-10|      METRÔ PENHA|PARADA XV DE NOVE...|           3|\n",
      "|         32991|      2| 273G-10|METRÔ ARTUR ALVIM|          JD. HELENA|           6|\n",
      "|         33920|      2| 6063-10|   TERM. VARGINHA|        JD. VARGINHA|           8|\n",
      "|           145|      1| 2765-10|    METRÔ TATUAPÉ|          VL. CISPER|           5|\n",
      "|         33812|      2| 3745-10|    METRÔ TATUAPÉ|       JD. IMPERADOR|           6|\n",
      "|         33911|      2| 6051-10|   TERM. VARGINHA|          JD. ITAJAÍ|           5|\n",
      "|           516|      1| 106A-10|       ITAIM BIBI|       METRÔ SANTANA|           6|\n",
      "|          1655|      1| 513L-10|        PQ. BELÉM|        TERM. SACOMÃ|           2|\n",
      "|           543|      1| 1743-10|          SHOP. D|       JD. PERY ALTO|           5|\n",
      "|         33865|      2| 4027-10|   JD. STO. ANDRÉ|    HOSP. SÃO MATEUS|           3|\n",
      "|         33166|      2| 2772-10|      METRÔ PENHA|          JD. NAZARÉ|           5|\n",
      "|         33934|      2| 6078-10| SHOP. INTERLAGOS|     CANTINHO DO CÉU|           4|\n",
      "|          1275|      1| 502J-10|  METRÔ STA. CRUZ|      EST. AUTÓDROMO|           5|\n",
      "|         33034|      2| 516N-10|   PÇA. D. GASTÃO|          JD. MIRIAM|           9|\n",
      "|         34958|      2| 4017-10|      VL. YOLANDA|        METALÚRGICOS|           3|\n",
      "|         34209|      2| 695X-10|  METRÔ JABAQUARA|      TERM. VARGINHA|           9|\n",
      "|         33307|      2| 1741-10|    METRÔ SANTANA|        VL. DIONISIA|           4|\n",
      "|          1054|      1| 3763-10|    METRÔ TATUAPÉ|    TERM. VL. CARRÃO|           8|\n",
      "|         34684|      2| 807M-10|    SHOP. MORUMBI|   TERM. CAMPO LIMPO|           7|\n",
      "|           158|      1| 253F-10| TERM. SÃO MATEUS|TERM. A. E. CARVALHO|           9|\n",
      "+--------------+-------+--------+-----------------+--------------------+------------+\n",
      "only showing top 20 rows\n",
      "\n"
     ]
    }
   ],
   "source": [
    "# Exibe a lista de arquivos\n",
    "files_df = spark.read.format(\"binaryFile\").load(raw_path)\n",
    "\n",
    "# Pega o primeiro arquivo para gerar o df_bus_lines\n",
    "first_raw_file_path = files_df.collect()[0][\"path\"]\n",
    "file_name = os.path.basename(first_raw_file_path).replace(\".json\", \"\")\n",
    "                                                          \n",
    "df_raw = spark.read.json(first_raw_file_path)\n",
    "\n",
    "# Explodir o array \"l\" para acessar as informações de cada linha de ônibus\n",
    "df_lines = df_raw.select(explode(col(\"l\")).alias(\"linha\"))\n",
    "\n",
    "# DataFrame com as informações de \"c\" até \"qv\" (linhas de ônibus)\n",
    "df_bus_lines = df_lines.select(\n",
    "    col(\"linha.cl\").alias(\"codigo_trajeto\"),\n",
    "    col(\"linha.sl\").alias(\"sentido\"),\n",
    "    col(\"linha.c\").alias(\"letreiro\"),\n",
    "    col(\"linha.lt0\").alias(\"terminal_primario\"),\n",
    "    col(\"linha.lt1\").alias(\"terminal_secundario\"),\n",
    "    col(\"linha.qv\").alias(\"qnt_veiculos\")\n",
    ")\n",
    "# Salva o df_bus_lines no caminho apenas uma vez\n",
    "# Define o caminho de destino usando o nome do arquivo original\n",
    "destination_path = os.path.join(routes_trusted_path, file_name)\n",
    "    \n",
    "# Salva o DataFrame processado no formato Parquet\n",
    "#df_bus_lines.write.mode(\"overwrite\").parquet(destination_path)\n",
    "df_bus_lines.write.mode(\"overwrite\").json(routes_trusted_path)\n",
    "df_bus_lines.show()"
   ]
  },
  {
   "cell_type": "code",
   "execution_count": 5,
   "id": "cab8d31c-a334-4e50-99e2-daa2db29a1bc",
   "metadata": {},
   "outputs": [],
   "source": [
    "# Itera sobre os arquivos para processar as posições dos veículos\n",
    "for row in files_df.collect():\n",
    "    raw_file_path = row[\"path\"]\n",
    "    raw_file_date = raw_file_path.split('_')[-1].split('.')[0]\n",
    "    df_raw = spark.read.json(raw_file_path)\n",
    "    \n",
    "    # Explodir o array \"l\" para acessar as informações de cada linha de ônibus\n",
    "    df_lines = df_raw.select(explode(col(\"l\")).alias(\"linha\"))\n",
    "\n",
    "    # Explodir o array \"vs\" para acessar as informações de cada veículo dentro da linha de ônibus\n",
    "    df_vehicles = df_lines.select(\n",
    "        col(\"linha.cl\").alias(\"codigo_trajeto\"),\n",
    "        col(\"linha.sl\").alias(\"sentido\"),\n",
    "        explode(col(\"linha.vs\")).alias(\"vehicle\")\n",
    "    )\n",
    "\n",
    "    # DataFrame com as informações de \"p\" até \"px\" (posições dos veículos)\n",
    "    df_vehicles_position = df_vehicles.select(\n",
    "        col(\"codigo_trajeto\"),\n",
    "        col(\"sentido\"),\n",
    "        col(\"vehicle.p\").alias(\"prefixo_veiculo\"),\n",
    "        col(\"vehicle.py\").alias(\"latitude\"),\n",
    "        col(\"vehicle.px\").alias(\"longitude\")\n",
    "    )\n",
    "    \n",
    "    # Salva as posições dos veículos no caminho de saída\n",
    "    df_vehicles_position.write.mode(\"overwrite\").json(positions_trusted_path + 'positions_' + raw_file_date)"
   ]
  },
  {
   "cell_type": "code",
   "execution_count": 6,
   "id": "7a6aca91-6eab-4b14-9551-38b1094c017b",
   "metadata": {},
   "outputs": [
    {
     "name": "stdout",
     "output_type": "stream",
     "text": [
      "+--------------+-------+---------------+-------------------+-------------------+\n",
      "|codigo_trajeto|sentido|prefixo_veiculo|           latitude|          longitude|\n",
      "+--------------+-------+---------------+-------------------+-------------------+\n",
      "|         32999|      2|          32007|         -23.521937|        -46.4241185|\n",
      "|         32999|      2|          32050|-23.521850999999998|        -46.4244515|\n",
      "|         32999|      2|          32004|        -23.5331465|         -46.543474|\n",
      "|         32999|      2|          32638|        -23.5231385|        -46.5208425|\n",
      "|         32999|      2|          32009|        -23.5331465|         -46.543474|\n",
      "|         33920|      2|          66298|         -23.783673|        -46.6827105|\n",
      "|         33920|      2|          66275|         -23.783673|        -46.6827105|\n",
      "|         33920|      2|          66271|         -23.783673|        -46.6827105|\n",
      "|         33920|      2|          66354|         -23.783673|        -46.6827105|\n",
      "|         33920|      2|          66981|         -23.783673|        -46.6827105|\n",
      "|         33920|      2|          66791|         -23.783673|        -46.6827105|\n",
      "|         33920|      2|          66451|-23.781824999999998|         -46.690094|\n",
      "|         33920|      2|          66291|         -23.783673|        -46.6827105|\n",
      "|         33920|      2|          66126|       -23.78403325|          -46.68289|\n",
      "|         33920|      2|          66825|         -23.783673|        -46.6827105|\n",
      "|         33920|      2|          66961|         -23.783673|        -46.6827105|\n",
      "|         33911|      2|          66691|        -23.7628215|-46.688933500000005|\n",
      "|         33911|      2|          66935|-23.769367000000003|-46.698896000000005|\n",
      "|         33911|      2|          66879|        -23.7621455|         -46.689133|\n",
      "|           623|      1|          21577|        -23.5031455|        -46.6236635|\n",
      "+--------------+-------+---------------+-------------------+-------------------+\n",
      "only showing top 20 rows\n",
      "\n"
     ]
    }
   ],
   "source": [
    "df_vehicles_position.show()"
   ]
  },
  {
   "cell_type": "code",
   "execution_count": 7,
   "id": "102df309-795f-4215-8ee1-dabd875d5baf",
   "metadata": {},
   "outputs": [],
   "source": [
    "# Encerra a sessão Spark\n",
    "spark.stop()"
   ]
  },
  {
   "cell_type": "code",
   "execution_count": 6,
   "id": "3d8a0323-82d7-4c4e-b918-0d0ba1caf351",
   "metadata": {},
   "outputs": [],
   "source": [
    "# ----------------------------------------------------------------------------------------------------------------- #"
   ]
  },
  {
   "cell_type": "code",
   "execution_count": null,
   "id": "abbd183b-7ba6-4ac3-a0ab-0122ba48df37",
   "metadata": {},
   "outputs": [],
   "source": []
  },
  {
   "cell_type": "code",
   "execution_count": null,
   "id": "51c8c9f4-eaac-43a2-b0b0-b34f0958928c",
   "metadata": {},
   "outputs": [],
   "source": []
  },
  {
   "cell_type": "code",
   "execution_count": null,
   "id": "ac3e36c0-aa12-419b-a380-173f42ce051f",
   "metadata": {},
   "outputs": [],
   "source": []
  },
  {
   "cell_type": "code",
   "execution_count": null,
   "id": "724605c4-d605-4af0-9b79-a6104363831a",
   "metadata": {},
   "outputs": [],
   "source": []
  }
 ],
 "metadata": {
  "kernelspec": {
   "display_name": "Python 3 (ipykernel)",
   "language": "python",
   "name": "python3"
  },
  "language_info": {
   "codemirror_mode": {
    "name": "ipython",
    "version": 3
   },
   "file_extension": ".py",
   "mimetype": "text/x-python",
   "name": "python",
   "nbconvert_exporter": "python",
   "pygments_lexer": "ipython3",
   "version": "3.10.8"
  }
 },
 "nbformat": 4,
 "nbformat_minor": 5
}
