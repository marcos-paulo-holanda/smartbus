{
 "cells": [
  {
   "cell_type": "markdown",
   "id": "4bf0d324-6252-4bee-8a53-37189977952a",
   "metadata": {
    "tags": []
   },
   "source": [
    "# ETL Bus Position"
   ]
  },
  {
   "cell_type": "code",
   "execution_count": 1,
   "id": "ff56a975-3bec-476d-9150-4ae3b614da77",
   "metadata": {},
   "outputs": [],
   "source": [
    "import pytz\n",
    "import os\n",
    "from pyspark.sql import SparkSession\n",
    "from datetime import datetime\n",
    "from pyspark.sql.functions import explode, col"
   ]
  },
  {
   "cell_type": "code",
   "execution_count": 2,
   "id": "635a68ad-19d6-4257-926f-fd79065c030a",
   "metadata": {},
   "outputs": [
    {
     "data": {
      "text/html": [
       "\n",
       "            <div>\n",
       "                <p><b>SparkSession - in-memory</b></p>\n",
       "                \n",
       "        <div>\n",
       "            <p><b>SparkContext</b></p>\n",
       "\n",
       "            <p><a href=\"http://spark-master:4040\">Spark UI</a></p>\n",
       "\n",
       "            <dl>\n",
       "              <dt>Version</dt>\n",
       "                <dd><code>v3.3.1</code></dd>\n",
       "              <dt>Master</dt>\n",
       "                <dd><code>local[*]</code></dd>\n",
       "              <dt>AppName</dt>\n",
       "                <dd><code>ProcessRawToTrusted</code></dd>\n",
       "            </dl>\n",
       "        </div>\n",
       "        \n",
       "            </div>\n",
       "        "
      ],
      "text/plain": [
       "<pyspark.sql.session.SparkSession at 0x7f1cdc2fc730>"
      ]
     },
     "execution_count": 2,
     "metadata": {},
     "output_type": "execute_result"
    }
   ],
   "source": [
    "# Inicializa a sessão Spark\n",
    "spark = SparkSession.builder.appName(\"RawToTrustedBatch\").getOrCreate()\n",
    "\n",
    "# Configura o acesso ao MinIO\n",
    "hadoop_conf = spark.sparkContext._jsc.hadoopConfiguration()\n",
    "hadoop_conf.set(\"fs.s3a.access.key\", \"datalake\")\n",
    "hadoop_conf.set(\"fs.s3a.secret.key\", \"datalake\")\n",
    "hadoop_conf.set(\"fs.s3a.endpoint\", \"http://minio:9000\")\n",
    "hadoop_conf.set(\"fs.s3a.path.style.access\", \"true\")\n",
    "hadoop_conf.set(\"fs.s3a.impl\", \"org.apache.hadoop.fs.s3a.S3AFileSystem\")\n",
    "\n",
    "spark"
   ]
  },
  {
   "cell_type": "code",
   "execution_count": 3,
   "id": "0089b22b-7ef6-4ea4-a9b8-62b4a371455a",
   "metadata": {},
   "outputs": [],
   "source": [
    "# Defina o caminho de entrada e saída com base na data\n",
    "fuso_horario_brasilia = pytz.timezone('America/Sao_Paulo')\n",
    "brasilia_time = datetime.now(fuso_horario_brasilia)\n",
    "today = brasilia_time.strftime('%Y-%m-%d')\n",
    "\n",
    "raw_path = f\"s3a://raw/busdata/{today}\"\n",
    "\n",
    "routes_trusted_path = f\"s3a://trusted/busroutes/{today}/\"\n",
    "positions_trusted_path = f\"s3a://trusted/buspositions/{today}/\""
   ]
  },
  {
   "cell_type": "code",
   "execution_count": 10,
   "id": "fdb0bf2a-43af-4e01-9ff8-7559d6e731ab",
   "metadata": {},
   "outputs": [
    {
     "name": "stdout",
     "output_type": "stream",
     "text": [
      "+--------------+-------+--------+--------------------+-------------------+------------+\n",
      "|codigo_trajeto|sentido|letreiro|   terminal_primario|terminal_secundario|qnt_veiculos|\n",
      "+--------------+-------+--------+--------------------+-------------------+------------+\n",
      "|         34791|      2| 8012-10|  CID. UNIVERSITÁRIA|      METRÔ BUTANTÃ|           1|\n",
      "|         33536|      2| 4113-10|   PÇA. DA REPÚBLICA|    GENTIL DE MOURA|           5|\n",
      "|           904|      1| 2018-10|          SÃO MIGUEL|         JD. CAMPOS|           3|\n",
      "|         32994|      2| 273R-10|   METRÔ ARTUR ALVIM|          JD. ROBRU|           7|\n",
      "|         32787|      2| 6820-10|     TERM. CAPELINHA|      JD. DAS ROSAS|           4|\n",
      "|          1629|      1| 574W-10|         METRÔ BELÉM|       JD. WALKIRIA|           6|\n",
      "|         33474|      2| 278A-10|             PENHA  |      METRÔ SANTANA|           3|\n",
      "|          1059|      1| 3773-10|        METRÔ CARRÃO|  RES. STA. BÁRBARA|           5|\n",
      "|         33242|      2| 775N-10|  METRÔ VL. MADALENA|        RIO PEQUENO|           3|\n",
      "|         33343|      2| 8528-10|     PÇA. DO CORREIO|        JD. GUARANI|           4|\n",
      "|         33058|      2| 4288-10|TERM. PQ. D. PEDR...|  PQ. STA. MADALENA|           3|\n",
      "|           355|      1| 6200-10|      TERM. BANDEIRA|   TERM. STO. AMARO|           8|\n",
      "|         34045|      2| 509M-10| TERM. PRINC. ISABEL|         JD. MIRIAM|           5|\n",
      "|         32943|      2| 6006-10|    SHOP. INTERLAGOS|      JD. HERCULANO|           2|\n",
      "|          2215|      1| 407E-10|        METRÔ CARRÃO|     JD. STO. ANDRÉ|           5|\n",
      "|             4|      1| 669A-10| TERM. PRINC. ISABEL|   TERM. STO. AMARO|           5|\n",
      "|         33873|      2| 414P-10|TERM. NORTE METRÔ...|     VL. INDUSTRIAL|           4|\n",
      "|          1132|      1| 546A-31|          STO. AMARO|          JD. APURÁ|           3|\n",
      "|         34867|      2| 807P-10|          STO. AMARO|       PARAISÓPOLIS|           6|\n",
      "|         34984|      2| 209P-10|     TERM. PINHEIROS|       CACHOEIRINHA|          10|\n",
      "+--------------+-------+--------+--------------------+-------------------+------------+\n",
      "only showing top 20 rows\n",
      "\n"
     ]
    }
   ],
   "source": [
    "# Exibe a lista de arquivos\n",
    "files_df = spark.read.format(\"binaryFile\").load(raw_path)\n",
    "\n",
    "# Pega o primeiro arquivo para gerar o df_bus_lines\n",
    "first_raw_file_path = files_df.collect()[0][\"path\"]\n",
    "file_name = os.path.basename(first_raw_file_path).replace(\".json\", \"\")\n",
    "                                                          \n",
    "df_raw = spark.read.json(first_raw_file_path)\n",
    "\n",
    "# Explodir o array \"l\" para acessar as informações de cada linha de ônibus\n",
    "df_lines = df_raw.select(explode(col(\"l\")).alias(\"linha\"))\n",
    "\n",
    "# DataFrame com as informações de \"c\" até \"qv\" (linhas de ônibus)\n",
    "df_bus_lines = df_lines.select(\n",
    "    col(\"linha.cl\").alias(\"codigo_trajeto\"),\n",
    "    col(\"linha.sl\").alias(\"sentido\"),\n",
    "    col(\"linha.c\").alias(\"letreiro\"),\n",
    "    col(\"linha.lt0\").alias(\"terminal_primario\"),\n",
    "    col(\"linha.lt1\").alias(\"terminal_secundario\"),\n",
    "    col(\"linha.qv\").alias(\"qnt_veiculos\")\n",
    ")\n",
    "# Salva o df_bus_lines no caminho apenas uma vez\n",
    "# Define o caminho de destino usando o nome do arquivo original\n",
    "destination_path = os.path.join(routes_trusted_path, file_name)\n",
    "    \n",
    "# Salva o DataFrame processado no formato Parquet\n",
    "#df_bus_lines.write.mode(\"overwrite\").parquet(destination_path)\n",
    "df_bus_lines.write.mode(\"overwrite\").json(routes_trusted_path)\n",
    "df_bus_lines.show()"
   ]
  },
  {
   "cell_type": "code",
   "execution_count": 5,
   "id": "cab8d31c-a334-4e50-99e2-daa2db29a1bc",
   "metadata": {},
   "outputs": [],
   "source": [
    "# Itera sobre os arquivos para processar as posições dos veículos\n",
    "for row in files_df.collect():\n",
    "    raw_file_path = row[\"path\"]\n",
    "    raw_file_date = raw_file_path.split('_')[-1].split('.')[0]\n",
    "    df_raw = spark.read.json(raw_file_path)\n",
    "    \n",
    "    # Explodir o array \"l\" para acessar as informações de cada linha de ônibus\n",
    "    df_lines = df_raw.select(explode(col(\"l\")).alias(\"linha\"))\n",
    "\n",
    "    # Explodir o array \"vs\" para acessar as informações de cada veículo dentro da linha de ônibus\n",
    "    df_vehicles = df_lines.select(\n",
    "        col(\"linha.cl\").alias(\"codigo_trajeto\"),\n",
    "        col(\"linha.sl\").alias(\"sentido\"),\n",
    "        explode(col(\"linha.vs\")).alias(\"vehicle\")\n",
    "    )\n",
    "\n",
    "    # DataFrame com as informações de \"p\" até \"px\" (posições dos veículos)\n",
    "    df_vehicles_position = df_vehicles.select(\n",
    "        col(\"codigo_trajeto\"),\n",
    "        col(\"sentido\"),\n",
    "        col(\"vehicle.p\").alias(\"prefixo_veiculo\"),\n",
    "        col(\"vehicle.py\").alias(\"latitude\"),\n",
    "        col(\"vehicle.px\").alias(\"longitude\")\n",
    "    )\n",
    "    \n",
    "    # Salva as posições dos veículos no caminho de saída\n",
    "    df_vehicles_position.write.mode(\"overwrite\").json(positions_trusted_path + 'positions_' + raw_file_date)"
   ]
  },
  {
   "cell_type": "code",
   "execution_count": 6,
   "id": "7a6aca91-6eab-4b14-9551-38b1094c017b",
   "metadata": {},
   "outputs": [
    {
     "name": "stdout",
     "output_type": "stream",
     "text": [
      "+--------------+-------+---------------+-------------------+-------------------+\n",
      "|codigo_trajeto|sentido|prefixo_veiculo|           latitude|          longitude|\n",
      "+--------------+-------+---------------+-------------------+-------------------+\n",
      "|         34791|      2|          82542|       -23.55835075|        -46.7365775|\n",
      "|         34791|      2|          82633|         -23.563583| -46.71300037500001|\n",
      "|         33536|      2|          41911|       -23.58504125|         -46.610963|\n",
      "|         33536|      2|          41518|        -23.5812595|        -46.6151475|\n",
      "|         33536|      2|          41585|        -23.5523785|        -46.6334785|\n",
      "|         33536|      2|          41511|      -23.545999875|      -46.643137875|\n",
      "|         33536|      2|          41579|       -23.60146375|      -46.613241875|\n",
      "|           904|      1|          35845|        -23.4917385|         -46.444333|\n",
      "|           904|      1|          35728|-23.495239249999997|       -46.43271375|\n",
      "|           904|      1|          35764|-23.510486999999998|-46.406726500000005|\n",
      "|           904|      1|          35816|-23.510229250000002|-46.410312250000004|\n",
      "|         32994|      2|          32233|        -23.5257245|-46.474695749999995|\n",
      "|         32994|      2|          32642|         -23.508855|        -46.4228405|\n",
      "|         32994|      2|          32024|        -23.5136495|      -46.444970125|\n",
      "|         32994|      2|          32211|         -23.540395|        -46.4831425|\n",
      "|         32994|      2|          32607|        -23.5126095|         -46.433842|\n",
      "|         32994|      2|          32083|         -23.540395|        -46.4831425|\n",
      "|         32994|      2|          32203|         -23.540395|        -46.4831425|\n",
      "|         32787|      2|          72803|        -23.6598555|         -46.767027|\n",
      "|         32787|      2|          72929|-23.664431999999998|         -46.792949|\n",
      "+--------------+-------+---------------+-------------------+-------------------+\n",
      "only showing top 20 rows\n",
      "\n"
     ]
    }
   ],
   "source": [
    "df_vehicles_position.show()"
   ]
  },
  {
   "cell_type": "code",
   "execution_count": 11,
   "id": "102df309-795f-4215-8ee1-dabd875d5baf",
   "metadata": {},
   "outputs": [],
   "source": [
    "# Encerra a sessão Spark\n",
    "spark.stop()"
   ]
  },
  {
   "cell_type": "code",
   "execution_count": 6,
   "id": "3d8a0323-82d7-4c4e-b918-0d0ba1caf351",
   "metadata": {},
   "outputs": [],
   "source": [
    "# ----------------------------------------------------------------------------------------------------------------- #"
   ]
  },
  {
   "cell_type": "code",
   "execution_count": null,
   "id": "abbd183b-7ba6-4ac3-a0ab-0122ba48df37",
   "metadata": {},
   "outputs": [],
   "source": []
  },
  {
   "cell_type": "code",
   "execution_count": null,
   "id": "51c8c9f4-eaac-43a2-b0b0-b34f0958928c",
   "metadata": {},
   "outputs": [],
   "source": []
  },
  {
   "cell_type": "code",
   "execution_count": null,
   "id": "ac3e36c0-aa12-419b-a380-173f42ce051f",
   "metadata": {},
   "outputs": [],
   "source": []
  },
  {
   "cell_type": "code",
   "execution_count": null,
   "id": "724605c4-d605-4af0-9b79-a6104363831a",
   "metadata": {},
   "outputs": [],
   "source": []
  }
 ],
 "metadata": {
  "kernelspec": {
   "display_name": "Python 3 (ipykernel)",
   "language": "python",
   "name": "python3"
  },
  "language_info": {
   "codemirror_mode": {
    "name": "ipython",
    "version": 3
   },
   "file_extension": ".py",
   "mimetype": "text/x-python",
   "name": "python",
   "nbconvert_exporter": "python",
   "pygments_lexer": "ipython3",
   "version": "3.10.8"
  }
 },
 "nbformat": 4,
 "nbformat_minor": 5
}
